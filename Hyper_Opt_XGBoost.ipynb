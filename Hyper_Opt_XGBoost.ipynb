{
  "nbformat": 4,
  "nbformat_minor": 0,
  "metadata": {
    "colab": {
      "name": "Hyper_Opt_XGBoost.ipynb",
      "provenance": []
    },
    "kernelspec": {
      "name": "python3",
      "display_name": "Python 3"
    },
    "language_info": {
      "name": "python"
    },
    "accelerator": "TPU"
  },
  "cells": [
    {
      "cell_type": "code",
      "metadata": {
        "id": "_BVkvMrNHKM4",
        "colab": {
          "base_uri": "https://localhost:8080/"
        },
        "outputId": "034263d2-58e9-4eb9-82aa-880e0b6f523b"
      },
      "source": [
        "from google.colab import drive\n",
        "drive.mount('/content/drive') "
      ],
      "execution_count": null,
      "outputs": [
        {
          "output_type": "stream",
          "text": [
            "Mounted at /content/drive\n"
          ],
          "name": "stdout"
        }
      ]
    },
    {
      "cell_type": "code",
      "metadata": {
        "id": "8TdDIc3LHK4s"
      },
      "source": [
        "import pandas as pd\n",
        "from hyperopt.pyll import scope\n",
        "import time\n",
        "from sklearn.model_selection import cross_validate, ShuffleSplit, cross_val_score, GridSearchCV\n",
        "from sklearn.linear_model import LogisticRegression\n",
        "from sklearn.ensemble import AdaBoostRegressor,RandomForestRegressor,GradientBoostingRegressor,BaggingRegressor\n",
        "from sklearn.neighbors import KNeighborsRegressor\n",
        "from catboost import CatBoostRegressor\n",
        "import xgboost as xgb\n",
        "import lightgbm as lgb\n",
        "from sklearn.ensemble import ExtraTreesRegressor\n",
        "import math\n",
        "import gc\n",
        "import pickle\n",
        "from sklearn.preprocessing import LabelEncoder\n",
        "from sklearn.metrics import mean_squared_log_error\n",
        "from xgboost import XGBRegressor\n",
        "import nltk \n",
        "from sklearn.model_selection import train_test_split\n",
        "import xgboost as xgb\n",
        "from sklearn.model_selection import train_test_split,cross_val_predict\n",
        "import random\n",
        "import matplotlib.pyplot as plt\n",
        "import seaborn as sns\n",
        "from hyperopt import fmin, tpe, hp, STATUS_OK, Trials\n",
        "from sklearn.model_selection import cross_val_score\n",
        "plt.rcParams[\"figure.figsize\"] = (15,5)\n",
        "import numpy as np \n",
        "import pandas as pd \n",
        "from xgboost import plot_importance\n",
        "import xgboost as xg \n",
        "from sklearn.model_selection import train_test_split \n",
        "from sklearn.metrics import mean_squared_error as MSE "
      ],
      "execution_count": null,
      "outputs": []
    },
    {
      "cell_type": "code",
      "metadata": {
        "id": "Hwh5pT1gHQFG"
      },
      "source": [
        "merged=pd.read_csv(\"drive/MyDrive/Datasets-Collab/merged.csv\")"
      ],
      "execution_count": null,
      "outputs": []
    },
    {
      "cell_type": "code",
      "metadata": {
        "id": "46LOfVdKImTN"
      },
      "source": [
        "merged.drop(['Unnamed: 0'],axis=1,inplace=True)"
      ],
      "execution_count": null,
      "outputs": []
    },
    {
      "cell_type": "code",
      "metadata": {
        "id": "eDde8CI7HSzo"
      },
      "source": [
        "merged.columns[merged.columns.duplicated()]\n",
        "merged.rename(columns = lambda x: x.replace(' ', '_'), inplace=True)\n",
        "slice_= 20999"
      ],
      "execution_count": null,
      "outputs": []
    },
    {
      "cell_type": "code",
      "metadata": {
        "id": "9nxA2LZvHZzf"
      },
      "source": [
        "train=merged.iloc[:slice_,:]\n",
        "X_test_final=merged.iloc[slice_:,:]\n",
        "X=train.drop(['Per_Person_Price'],axis=1)\n",
        "y=train['Per_Person_Price']"
      ],
      "execution_count": null,
      "outputs": []
    },
    {
      "cell_type": "code",
      "metadata": {
        "id": "g9IhgI_KWwH7"
      },
      "source": [
        "from sklearn.preprocessing import StandardScaler\n",
        "scaler = StandardScaler()\n",
        "X = scaler.fit_transform(train)\n",
        "X_test = scaler.transform(X_test_final)"
      ],
      "execution_count": null,
      "outputs": []
    },
    {
      "cell_type": "code",
      "metadata": {
        "id": "wsVYT7SJYOQJ"
      },
      "source": [
        "train=pd.DataFrame(X, index=train.index, columns=train.columns)\n",
        "X_test_final=pd.DataFrame(X_test, index=X_test_final.index, columns=X_test_final.columns)"
      ],
      "execution_count": null,
      "outputs": []
    },
    {
      "cell_type": "code",
      "metadata": {
        "id": "HrKLskS7HeIE"
      },
      "source": [
        "def rmsle(y_pred, data):\n",
        "\n",
        "    y_true = np.array(data.get_label())\n",
        "    score = np.sqrt(np.mean(np.power(np.log1p(y_true) - np.log1p(y_pred), 2)))\n",
        "\n",
        "    return 'rmsle', score, False\n"
      ],
      "execution_count": null,
      "outputs": []
    },
    {
      "cell_type": "code",
      "metadata": {
        "id": "y7ovN9ETR0gO"
      },
      "source": [
        "\n",
        "def cv_results(model, X_train, y_train):\n",
        "  cv = ShuffleSplit(n_splits=5, test_size=0.3, random_state=0)\n",
        "  results = cross_val_score(model, X_train, y_train, cv=cv, n_jobs=-1, scoring='neg_mean_squared_log_error')\n",
        "  rmse = np.sqrt(-results).mean()\n",
        "  return rmse"
      ],
      "execution_count": null,
      "outputs": []
    },
    {
      "cell_type": "code",
      "metadata": {
        "colab": {
          "base_uri": "https://localhost:8080/"
        },
        "id": "QVoWGZbmRHuU",
        "outputId": "c81fba27-91c1-45c6-f17e-c6c83366ae8d"
      },
      "source": [
        "# List of models to evaluate\n",
        "models = [\n",
        "          # Linear regression\n",
        "          # LinearRegression(),\n",
        "          # Ridge(),\n",
        "          # SGDRegressor(),\n",
        "          # Lasso(),\n",
        "\n",
        "          # Ensemble methods\n",
        "          RandomForestRegressor(),\n",
        "          AdaBoostRegressor(),\n",
        "          ExtraTreesRegressor(),\n",
        "\n",
        "          GradientBoostingRegressor(),\n",
        "          BaggingRegressor(),\n",
        "          # KNN\n",
        "          KNeighborsRegressor(),\n",
        "\n",
        "          # Decision Trees\n",
        "          lgb.LGBMRegressor(),\n",
        "          CatBoostRegressor(),\n",
        "\n",
        "          #XGBoost\n",
        "          XGBRegressor()\n",
        "]\n",
        "\n",
        "# DataFrame to compile results\n",
        "model_columns = ['model_name', 'rmse', 'time']\n",
        "base_models = pd.DataFrame(columns=model_columns)\n",
        "\n",
        "# Populate dataframe with results of each base model\n",
        "model_index = 0\n",
        "\n",
        "for model in models:\n",
        "  start = time.time()\n",
        "  # Saving model name and paramters\n",
        "  model_name = model.__class__.__name__\n",
        "  base_models.loc[model_index, 'model_name'] = model_name\n",
        "\n",
        "  # Cross validation score\n",
        "  results = cv_results(model, X, y)\n",
        "  base_models.loc[model_index, 'rmse'] = results\n",
        "\n",
        "  #Computation time\n",
        "  base_models.loc[model_index, 'time'] = time.time() - start\n",
        "\n",
        "  model_index += 1\n",
        "\n",
        "base_models = base_models.sort_values(by='rmse', ascending=True)\n",
        "print(base_models)"
      ],
      "execution_count": null,
      "outputs": [
        {
          "output_type": "stream",
          "text": [
            "                  model_name      rmse      time\n",
            "7          CatBoostRegressor  0.187771    70.927\n",
            "6              LGBMRegressor   0.19756   5.04419\n",
            "8               XGBRegressor  0.244927   39.3601\n",
            "0      RandomForestRegressor       NaN   1.64852\n",
            "1          AdaBoostRegressor       NaN  0.462781\n",
            "2        ExtraTreesRegressor       NaN  0.463525\n",
            "3  GradientBoostingRegressor       NaN  0.482944\n",
            "4           BaggingRegressor       NaN   0.53576\n",
            "5        KNeighborsRegressor       NaN  0.468976\n"
          ],
          "name": "stdout"
        }
      ]
    },
    {
      "cell_type": "code",
      "metadata": {
        "id": "zxYPaXOKRIe8"
      },
      "source": [
        "param_hyperopt = {\n",
        "    'n_estimators' : scope.int(hp.quniform('n_estimators', 100, 1000, 1)),\n",
        "    'max_depth': scope.int(hp.quniform('max_depth', 2, 20, 1)),\n",
        "    'learning_rate': hp.loguniform('learning_rate', np.log(0.01), np.log(1)),\n",
        "    'subsample': hp.uniform('subsample', 0.8, 1.0),\n",
        "    'colsample_bytree' : hp.choice('colsample_bytree', np.arange(0.3, 0.8, 0.1)),\n",
        "    'alpha' : hp.choice('alpha', np.arange(0.0, 1.1, 0.1)),\n",
        "    'booster': hp.choice('booster', ['gbtree']),\n",
        "    'objective':rmsle\n",
        "}"
      ],
      "execution_count": null,
      "outputs": []
    },
    {
      "cell_type": "code",
      "metadata": {
        "id": "Zz8WYlTIgPWQ"
      },
      "source": [
        "def rmsle(y_pred, data):\n",
        "\n",
        "    y_true = np.array(data.get_label())\n",
        "    score = np.sqrt(np.mean(np.power(np.log1p(y_true) - np.log1p(y_pred), 2)))\n",
        "\n",
        "    return 'rmsle', score, False\n"
      ],
      "execution_count": null,
      "outputs": []
    },
    {
      "cell_type": "code",
      "metadata": {
        "id": "itXaq6q8Tx_h"
      },
      "source": [
        "def hyperopt(param_space, X_train_data, y_train_data, num_eval):\n",
        "\n",
        "    # Timing\n",
        "    start = time.time()\n",
        "\n",
        "    # Creating an objective function that will output rmse loss given a set of model parameters\n",
        "    # Hyperopt will seek to minimize the loss returned by this function\n",
        "    def objective_function(params):\n",
        "        clf = XGBRegressor(**params)\n",
        "        score = cross_val_score(clf, X_train_data, y_train_data, cv=5, scoring='neg_mean_squared_log_error')\n",
        "        return {'loss':np.sqrt(-score).mean(), 'status':STATUS_OK}\n",
        "\n",
        "    # Trials object will store information for each trial, allowing us to see under the hood\n",
        "    trials = Trials()\n",
        "\n",
        "    # The fmin function will carry out the hyperopt optimization for us\n",
        "    # Using TPE and given the objective function, the algorithm will find the hyperparameters that minimize loss as defined by our objective function\n",
        "    best_param = fmin(objective_function,\n",
        "                      param_space,\n",
        "                      algo=tpe.suggest,\n",
        "                      max_evals=num_eval,\n",
        "                      trials=trials,\n",
        "                      rstate= np.random.RandomState(0))\n",
        "\n",
        "    # Loss for each trial\n",
        "    loss = [x['result']['loss'] for x in trials.trials]\n",
        "\n",
        "    # Extract our best parameter values into a list\n",
        "    best_param_values = [x for x in best_param.values()]\n",
        "\n",
        "    # Fit a new model based on the best parameters, which are stored in the list alphabetically    \n",
        "    clf_best = XGBRegressor(\n",
        "        alpha = best_param_values[0],\n",
        "        booster = 'gbtree',\n",
        "        colsample_bytree = best_param_values[2],\n",
        "        learning_rate = best_param_values[3],\n",
        "        max_depth = int(best_param_values[4]),\n",
        "        n_estimators = int(best_param_values[5]),\n",
        "        subsample = best_param_values[6]\n",
        "          )\n",
        "\n",
        "    clf_best.fit(X_train_data, y_train_data,eval_metric=rmsle,verbose=True)\n",
        "\n",
        "    print(\"\")\n",
        "    print(\"##### Results\")\n",
        "    print(\"Score best parameters: \", min(loss))\n",
        "    print(\"Best parameters: \", best_param)\n",
        "    print(\"Time elapsed: \", time.time() - start)\n",
        "    print(\"Parameter combinations evaluated: \", num_eval)\n",
        "\n",
        "    return trials, clf_best"
      ],
      "execution_count": null,
      "outputs": []
    },
    {
      "cell_type": "code",
      "metadata": {
        "colab": {
          "base_uri": "https://localhost:8080/",
          "height": 732
        },
        "id": "9P8spTwYUp4Q",
        "outputId": "756eb183-8ce7-4190-d06a-6e1afeb76e78"
      },
      "source": [
        "hyperopt_trials, xgb_hyperopt = hyperopt(\n",
        "    param_space=param_hyperopt,\n",
        "    X_train_data=X,\n",
        "    y_train_data=y,\n",
        "    num_eval=3)"
      ],
      "execution_count": null,
      "outputs": [
        {
          "output_type": "stream",
          "text": [
            "[20:55:52] WARNING: /workspace/src/objective/regression_obj.cu:152: reg:linear is now deprecated in favor of reg:squarederror.\n",
            "[20:55:53] WARNING: /workspace/src/objective/regression_obj.cu:152: reg:linear is now deprecated in favor of reg:squarederror.\n",
            "[20:55:53] WARNING: /workspace/src/objective/regression_obj.cu:152: reg:linear is now deprecated in favor of reg:squarederror.\n",
            "  0%|          | 0/3 [00:00<?, ?it/s, best loss: ?]"
          ],
          "name": "stdout"
        },
        {
          "output_type": "stream",
          "text": [
            "/usr/local/lib/python3.7/dist-packages/sklearn/model_selection/_validation.py:536: FitFailedWarning: Estimator fit failed. The score on this train-test partition for these parameters will be set to nan. Details: \n",
            "AttributeError: 'numpy.ndarray' object has no attribute 'get_label'\n",
            "\n",
            "  FitFailedWarning)\n",
            "\n"
          ],
          "name": "stderr"
        },
        {
          "output_type": "stream",
          "text": [
            "[20:55:53] WARNING: /workspace/src/objective/regression_obj.cu:152: reg:linear is now deprecated in favor of reg:squarederror.\n",
            "[20:55:53] WARNING: /workspace/src/objective/regression_obj.cu:152: reg:linear is now deprecated in favor of reg:squarederror.\n",
            "[20:55:53] WARNING: /workspace/src/objective/regression_obj.cu:152: reg:linear is now deprecated in favor of reg:squarederror.\n",
            "[20:55:53] WARNING: /workspace/src/objective/regression_obj.cu:152: reg:linear is now deprecated in favor of reg:squarederror.\n",
            "[20:55:53] WARNING: /workspace/src/objective/regression_obj.cu:152: reg:linear is now deprecated in favor of reg:squarederror.\n",
            "[20:55:53] WARNING: /workspace/src/objective/regression_obj.cu:152: reg:linear is now deprecated in favor of reg:squarederror.\n",
            "[20:55:53] WARNING: /workspace/src/objective/regression_obj.cu:152: reg:linear is now deprecated in favor of reg:squarederror.\n",
            "[20:55:53] WARNING: /workspace/src/objective/regression_obj.cu:152: reg:linear is now deprecated in favor of reg:squarederror.\n",
            "[20:55:54] WARNING: /workspace/src/objective/regression_obj.cu:152: reg:linear is now deprecated in favor of reg:squarederror.\n",
            "[20:55:54] WARNING: /workspace/src/objective/regression_obj.cu:152: reg:linear is now deprecated in favor of reg:squarederror.\n",
            "[20:55:54] WARNING: /workspace/src/objective/regression_obj.cu:152: reg:linear is now deprecated in favor of reg:squarederror.\n",
            "[20:55:54] WARNING: /workspace/src/objective/regression_obj.cu:152: reg:linear is now deprecated in favor of reg:squarederror.\n",
            "100%|██████████| 3/3 [00:01<00:00,  1.99it/s, best loss: nan]\n"
          ],
          "name": "stdout"
        },
        {
          "output_type": "error",
          "ename": "AssertionError",
          "evalue": "ignored",
          "traceback": [
            "\u001b[0;31m---------------------------------------------------------------------------\u001b[0m",
            "\u001b[0;31mAssertionError\u001b[0m                            Traceback (most recent call last)",
            "\u001b[0;32m<ipython-input-246-7e0e04c9c9e4>\u001b[0m in \u001b[0;36m<module>\u001b[0;34m()\u001b[0m\n\u001b[1;32m      3\u001b[0m     \u001b[0mX_train_data\u001b[0m\u001b[0;34m=\u001b[0m\u001b[0mX\u001b[0m\u001b[0;34m,\u001b[0m\u001b[0;34m\u001b[0m\u001b[0;34m\u001b[0m\u001b[0m\n\u001b[1;32m      4\u001b[0m     \u001b[0my_train_data\u001b[0m\u001b[0;34m=\u001b[0m\u001b[0my\u001b[0m\u001b[0;34m,\u001b[0m\u001b[0;34m\u001b[0m\u001b[0;34m\u001b[0m\u001b[0m\n\u001b[0;32m----> 5\u001b[0;31m     num_eval=3)\n\u001b[0m",
            "\u001b[0;32m<ipython-input-245-becc879aafac>\u001b[0m in \u001b[0;36mhyperopt\u001b[0;34m(param_space, X_train_data, y_train_data, num_eval)\u001b[0m\n\u001b[1;32m     21\u001b[0m                       \u001b[0mmax_evals\u001b[0m\u001b[0;34m=\u001b[0m\u001b[0mnum_eval\u001b[0m\u001b[0;34m,\u001b[0m\u001b[0;34m\u001b[0m\u001b[0;34m\u001b[0m\u001b[0m\n\u001b[1;32m     22\u001b[0m                       \u001b[0mtrials\u001b[0m\u001b[0;34m=\u001b[0m\u001b[0mtrials\u001b[0m\u001b[0;34m,\u001b[0m\u001b[0;34m\u001b[0m\u001b[0;34m\u001b[0m\u001b[0m\n\u001b[0;32m---> 23\u001b[0;31m                       rstate= np.random.RandomState(0))\n\u001b[0m\u001b[1;32m     24\u001b[0m \u001b[0;34m\u001b[0m\u001b[0m\n\u001b[1;32m     25\u001b[0m     \u001b[0;31m# Loss for each trial\u001b[0m\u001b[0;34m\u001b[0m\u001b[0;34m\u001b[0m\u001b[0;34m\u001b[0m\u001b[0m\n",
            "\u001b[0;32m/usr/local/lib/python3.7/dist-packages/hyperopt/fmin.py\u001b[0m in \u001b[0;36mfmin\u001b[0;34m(fn, space, algo, max_evals, trials, rstate, allow_trials_fmin, pass_expr_memo_ctrl, catch_eval_exceptions, verbose, return_argmin, points_to_evaluate, max_queue_len, show_progressbar)\u001b[0m\n\u001b[1;32m    386\u001b[0m             \u001b[0mcatch_eval_exceptions\u001b[0m\u001b[0;34m=\u001b[0m\u001b[0mcatch_eval_exceptions\u001b[0m\u001b[0;34m,\u001b[0m\u001b[0;34m\u001b[0m\u001b[0;34m\u001b[0m\u001b[0m\n\u001b[1;32m    387\u001b[0m             \u001b[0mreturn_argmin\u001b[0m\u001b[0;34m=\u001b[0m\u001b[0mreturn_argmin\u001b[0m\u001b[0;34m,\u001b[0m\u001b[0;34m\u001b[0m\u001b[0;34m\u001b[0m\u001b[0m\n\u001b[0;32m--> 388\u001b[0;31m             \u001b[0mshow_progressbar\u001b[0m\u001b[0;34m=\u001b[0m\u001b[0mshow_progressbar\u001b[0m\u001b[0;34m,\u001b[0m\u001b[0;34m\u001b[0m\u001b[0;34m\u001b[0m\u001b[0m\n\u001b[0m\u001b[1;32m    389\u001b[0m         )\n\u001b[1;32m    390\u001b[0m \u001b[0;34m\u001b[0m\u001b[0m\n",
            "\u001b[0;32m/usr/local/lib/python3.7/dist-packages/hyperopt/base.py\u001b[0m in \u001b[0;36mfmin\u001b[0;34m(self, fn, space, algo, max_evals, rstate, verbose, pass_expr_memo_ctrl, catch_eval_exceptions, return_argmin, show_progressbar)\u001b[0m\n\u001b[1;32m    637\u001b[0m             \u001b[0mcatch_eval_exceptions\u001b[0m\u001b[0;34m=\u001b[0m\u001b[0mcatch_eval_exceptions\u001b[0m\u001b[0;34m,\u001b[0m\u001b[0;34m\u001b[0m\u001b[0;34m\u001b[0m\u001b[0m\n\u001b[1;32m    638\u001b[0m             \u001b[0mreturn_argmin\u001b[0m\u001b[0;34m=\u001b[0m\u001b[0mreturn_argmin\u001b[0m\u001b[0;34m,\u001b[0m\u001b[0;34m\u001b[0m\u001b[0;34m\u001b[0m\u001b[0m\n\u001b[0;32m--> 639\u001b[0;31m             show_progressbar=show_progressbar)\n\u001b[0m\u001b[1;32m    640\u001b[0m \u001b[0;34m\u001b[0m\u001b[0m\n\u001b[1;32m    641\u001b[0m \u001b[0;34m\u001b[0m\u001b[0m\n",
            "\u001b[0;32m/usr/local/lib/python3.7/dist-packages/hyperopt/fmin.py\u001b[0m in \u001b[0;36mfmin\u001b[0;34m(fn, space, algo, max_evals, trials, rstate, allow_trials_fmin, pass_expr_memo_ctrl, catch_eval_exceptions, verbose, return_argmin, points_to_evaluate, max_queue_len, show_progressbar)\u001b[0m\n\u001b[1;32m    407\u001b[0m     \u001b[0mrval\u001b[0m\u001b[0;34m.\u001b[0m\u001b[0mexhaust\u001b[0m\u001b[0;34m(\u001b[0m\u001b[0;34m)\u001b[0m\u001b[0;34m\u001b[0m\u001b[0;34m\u001b[0m\u001b[0m\n\u001b[1;32m    408\u001b[0m     \u001b[0;32mif\u001b[0m \u001b[0mreturn_argmin\u001b[0m\u001b[0;34m:\u001b[0m\u001b[0;34m\u001b[0m\u001b[0;34m\u001b[0m\u001b[0m\n\u001b[0;32m--> 409\u001b[0;31m         \u001b[0;32mreturn\u001b[0m \u001b[0mtrials\u001b[0m\u001b[0;34m.\u001b[0m\u001b[0margmin\u001b[0m\u001b[0;34m\u001b[0m\u001b[0;34m\u001b[0m\u001b[0m\n\u001b[0m\u001b[1;32m    410\u001b[0m     \u001b[0;32melif\u001b[0m \u001b[0mlen\u001b[0m\u001b[0;34m(\u001b[0m\u001b[0mtrials\u001b[0m\u001b[0;34m)\u001b[0m \u001b[0;34m>\u001b[0m \u001b[0;36m0\u001b[0m\u001b[0;34m:\u001b[0m\u001b[0;34m\u001b[0m\u001b[0;34m\u001b[0m\u001b[0m\n\u001b[1;32m    411\u001b[0m         \u001b[0;31m# Only if there are some succesfull trail runs, return the best point in the evaluation space\u001b[0m\u001b[0;34m\u001b[0m\u001b[0;34m\u001b[0m\u001b[0;34m\u001b[0m\u001b[0m\n",
            "\u001b[0;32m/usr/local/lib/python3.7/dist-packages/hyperopt/base.py\u001b[0m in \u001b[0;36margmin\u001b[0;34m(self)\u001b[0m\n\u001b[1;32m    588\u001b[0m     \u001b[0;34m@\u001b[0m\u001b[0mproperty\u001b[0m\u001b[0;34m\u001b[0m\u001b[0;34m\u001b[0m\u001b[0m\n\u001b[1;32m    589\u001b[0m     \u001b[0;32mdef\u001b[0m \u001b[0margmin\u001b[0m\u001b[0;34m(\u001b[0m\u001b[0mself\u001b[0m\u001b[0;34m)\u001b[0m\u001b[0;34m:\u001b[0m\u001b[0;34m\u001b[0m\u001b[0;34m\u001b[0m\u001b[0m\n\u001b[0;32m--> 590\u001b[0;31m         \u001b[0mbest_trial\u001b[0m \u001b[0;34m=\u001b[0m \u001b[0mself\u001b[0m\u001b[0;34m.\u001b[0m\u001b[0mbest_trial\u001b[0m\u001b[0;34m\u001b[0m\u001b[0;34m\u001b[0m\u001b[0m\n\u001b[0m\u001b[1;32m    591\u001b[0m         \u001b[0mvals\u001b[0m \u001b[0;34m=\u001b[0m \u001b[0mbest_trial\u001b[0m\u001b[0;34m[\u001b[0m\u001b[0;34m'misc'\u001b[0m\u001b[0;34m]\u001b[0m\u001b[0;34m[\u001b[0m\u001b[0;34m'vals'\u001b[0m\u001b[0;34m]\u001b[0m\u001b[0;34m\u001b[0m\u001b[0;34m\u001b[0m\u001b[0m\n\u001b[1;32m    592\u001b[0m         \u001b[0;31m# unpack the one-element lists to values\u001b[0m\u001b[0;34m\u001b[0m\u001b[0;34m\u001b[0m\u001b[0;34m\u001b[0m\u001b[0m\n",
            "\u001b[0;32m/usr/local/lib/python3.7/dist-packages/hyperopt/base.py\u001b[0m in \u001b[0;36mbest_trial\u001b[0;34m(self)\u001b[0m\n\u001b[1;32m    582\u001b[0m                       if t['result']['status'] == STATUS_OK]\n\u001b[1;32m    583\u001b[0m         \u001b[0mlosses\u001b[0m \u001b[0;34m=\u001b[0m \u001b[0;34m[\u001b[0m\u001b[0mfloat\u001b[0m\u001b[0;34m(\u001b[0m\u001b[0mt\u001b[0m\u001b[0;34m[\u001b[0m\u001b[0;34m'result'\u001b[0m\u001b[0;34m]\u001b[0m\u001b[0;34m[\u001b[0m\u001b[0;34m'loss'\u001b[0m\u001b[0;34m]\u001b[0m\u001b[0;34m)\u001b[0m \u001b[0;32mfor\u001b[0m \u001b[0mt\u001b[0m \u001b[0;32min\u001b[0m \u001b[0mcandidates\u001b[0m\u001b[0;34m]\u001b[0m\u001b[0;34m\u001b[0m\u001b[0;34m\u001b[0m\u001b[0m\n\u001b[0;32m--> 584\u001b[0;31m         \u001b[0;32massert\u001b[0m \u001b[0;32mnot\u001b[0m \u001b[0mnp\u001b[0m\u001b[0;34m.\u001b[0m\u001b[0many\u001b[0m\u001b[0;34m(\u001b[0m\u001b[0mnp\u001b[0m\u001b[0;34m.\u001b[0m\u001b[0misnan\u001b[0m\u001b[0;34m(\u001b[0m\u001b[0mlosses\u001b[0m\u001b[0;34m)\u001b[0m\u001b[0;34m)\u001b[0m\u001b[0;34m\u001b[0m\u001b[0;34m\u001b[0m\u001b[0m\n\u001b[0m\u001b[1;32m    585\u001b[0m         \u001b[0mbest\u001b[0m \u001b[0;34m=\u001b[0m \u001b[0mnp\u001b[0m\u001b[0;34m.\u001b[0m\u001b[0margmin\u001b[0m\u001b[0;34m(\u001b[0m\u001b[0mlosses\u001b[0m\u001b[0;34m)\u001b[0m\u001b[0;34m\u001b[0m\u001b[0;34m\u001b[0m\u001b[0m\n\u001b[1;32m    586\u001b[0m         \u001b[0;32mreturn\u001b[0m \u001b[0mcandidates\u001b[0m\u001b[0;34m[\u001b[0m\u001b[0mbest\u001b[0m\u001b[0;34m]\u001b[0m\u001b[0;34m\u001b[0m\u001b[0;34m\u001b[0m\u001b[0m\n",
            "\u001b[0;31mAssertionError\u001b[0m: "
          ]
        }
      ]
    },
    {
      "cell_type": "code",
      "metadata": {
        "id": "4CsSBoATj6e-"
      },
      "source": [
        "def cv_results_print(model, X_train, y_train):\n",
        "  start = time.time()\n",
        "  cv = ShuffleSplit(n_splits=5, test_size=0.3, random_state=0)\n",
        "  results = cross_val_score(model, X_train, y_train, cv=cv, n_jobs=-1, scoring='neg_mean_squared_log_error')\n",
        "  rmse = np.sqrt(-results).mean()\n",
        "\n",
        "  model_name = model.__class__.__name__\n",
        "  model_params = model.get_params()\n",
        "  print('Model: {}'.format(model_name))\n",
        "  print('Model Parameters: {}'.format(model_params))\n",
        "  print('5 Fold CV RMSE: {:.4f}'.format(rmse))\n",
        "  print('Computation Time: {:.2f}'.format(time.time() - start))"
      ],
      "execution_count": null,
      "outputs": []
    },
    {
      "cell_type": "code",
      "metadata": {
        "colab": {
          "base_uri": "https://localhost:8080/",
          "height": 452
        },
        "id": "sAzDsFlkj7ei",
        "outputId": "e56d9267-73a6-44be-92ac-36efe42ea164"
      },
      "source": [
        "cv_results_print(xgb_hyperopt, X, y)"
      ],
      "execution_count": null,
      "outputs": [
        {
          "output_type": "error",
          "ename": "TypeError",
          "evalue": "ignored",
          "traceback": [
            "\u001b[0;31m---------------------------------------------------------------------------\u001b[0m",
            "\u001b[0;31mEmpty\u001b[0m                                     Traceback (most recent call last)",
            "\u001b[0;32m/usr/local/lib/python3.7/dist-packages/joblib/parallel.py\u001b[0m in \u001b[0;36mdispatch_one_batch\u001b[0;34m(self, iterator)\u001b[0m\n\u001b[1;32m    819\u001b[0m             \u001b[0;32mtry\u001b[0m\u001b[0;34m:\u001b[0m\u001b[0;34m\u001b[0m\u001b[0;34m\u001b[0m\u001b[0m\n\u001b[0;32m--> 820\u001b[0;31m                 \u001b[0mtasks\u001b[0m \u001b[0;34m=\u001b[0m \u001b[0mself\u001b[0m\u001b[0;34m.\u001b[0m\u001b[0m_ready_batches\u001b[0m\u001b[0;34m.\u001b[0m\u001b[0mget\u001b[0m\u001b[0;34m(\u001b[0m\u001b[0mblock\u001b[0m\u001b[0;34m=\u001b[0m\u001b[0;32mFalse\u001b[0m\u001b[0;34m)\u001b[0m\u001b[0;34m\u001b[0m\u001b[0;34m\u001b[0m\u001b[0m\n\u001b[0m\u001b[1;32m    821\u001b[0m             \u001b[0;32mexcept\u001b[0m \u001b[0mqueue\u001b[0m\u001b[0;34m.\u001b[0m\u001b[0mEmpty\u001b[0m\u001b[0;34m:\u001b[0m\u001b[0;34m\u001b[0m\u001b[0;34m\u001b[0m\u001b[0m\n",
            "\u001b[0;32m/usr/lib/python3.7/queue.py\u001b[0m in \u001b[0;36mget\u001b[0;34m(self, block, timeout)\u001b[0m\n\u001b[1;32m    166\u001b[0m                 \u001b[0;32mif\u001b[0m \u001b[0;32mnot\u001b[0m \u001b[0mself\u001b[0m\u001b[0;34m.\u001b[0m\u001b[0m_qsize\u001b[0m\u001b[0;34m(\u001b[0m\u001b[0;34m)\u001b[0m\u001b[0;34m:\u001b[0m\u001b[0;34m\u001b[0m\u001b[0;34m\u001b[0m\u001b[0m\n\u001b[0;32m--> 167\u001b[0;31m                     \u001b[0;32mraise\u001b[0m \u001b[0mEmpty\u001b[0m\u001b[0;34m\u001b[0m\u001b[0;34m\u001b[0m\u001b[0m\n\u001b[0m\u001b[1;32m    168\u001b[0m             \u001b[0;32melif\u001b[0m \u001b[0mtimeout\u001b[0m \u001b[0;32mis\u001b[0m \u001b[0;32mNone\u001b[0m\u001b[0;34m:\u001b[0m\u001b[0;34m\u001b[0m\u001b[0;34m\u001b[0m\u001b[0m\n",
            "\u001b[0;31mEmpty\u001b[0m: ",
            "\nDuring handling of the above exception, another exception occurred:\n",
            "\u001b[0;31mTypeError\u001b[0m                                 Traceback (most recent call last)",
            "\u001b[0;32m<ipython-input-216-71819194057c>\u001b[0m in \u001b[0;36m<module>\u001b[0;34m()\u001b[0m\n\u001b[0;32m----> 1\u001b[0;31m \u001b[0mcv_results_print\u001b[0m\u001b[0;34m(\u001b[0m\u001b[0mXGBRegressor\u001b[0m\u001b[0;34m,\u001b[0m \u001b[0mX\u001b[0m\u001b[0;34m,\u001b[0m \u001b[0my\u001b[0m\u001b[0;34m)\u001b[0m\u001b[0;34m\u001b[0m\u001b[0;34m\u001b[0m\u001b[0m\n\u001b[0m",
            "\u001b[0;32m<ipython-input-214-8b64797f0dc0>\u001b[0m in \u001b[0;36mcv_results_print\u001b[0;34m(model, X_train, y_train)\u001b[0m\n\u001b[1;32m      2\u001b[0m   \u001b[0mstart\u001b[0m \u001b[0;34m=\u001b[0m \u001b[0mtime\u001b[0m\u001b[0;34m.\u001b[0m\u001b[0mtime\u001b[0m\u001b[0;34m(\u001b[0m\u001b[0;34m)\u001b[0m\u001b[0;34m\u001b[0m\u001b[0;34m\u001b[0m\u001b[0m\n\u001b[1;32m      3\u001b[0m   \u001b[0mcv\u001b[0m \u001b[0;34m=\u001b[0m \u001b[0mShuffleSplit\u001b[0m\u001b[0;34m(\u001b[0m\u001b[0mn_splits\u001b[0m\u001b[0;34m=\u001b[0m\u001b[0;36m5\u001b[0m\u001b[0;34m,\u001b[0m \u001b[0mtest_size\u001b[0m\u001b[0;34m=\u001b[0m\u001b[0;36m0.3\u001b[0m\u001b[0;34m,\u001b[0m \u001b[0mrandom_state\u001b[0m\u001b[0;34m=\u001b[0m\u001b[0;36m0\u001b[0m\u001b[0;34m)\u001b[0m\u001b[0;34m\u001b[0m\u001b[0;34m\u001b[0m\u001b[0m\n\u001b[0;32m----> 4\u001b[0;31m   \u001b[0mresults\u001b[0m \u001b[0;34m=\u001b[0m \u001b[0mcross_val_score\u001b[0m\u001b[0;34m(\u001b[0m\u001b[0mmodel\u001b[0m\u001b[0;34m,\u001b[0m \u001b[0mX_train\u001b[0m\u001b[0;34m,\u001b[0m \u001b[0my_train\u001b[0m\u001b[0;34m,\u001b[0m \u001b[0mcv\u001b[0m\u001b[0;34m=\u001b[0m\u001b[0mcv\u001b[0m\u001b[0;34m,\u001b[0m \u001b[0mn_jobs\u001b[0m\u001b[0;34m=\u001b[0m\u001b[0;34m-\u001b[0m\u001b[0;36m1\u001b[0m\u001b[0;34m,\u001b[0m \u001b[0mscoring\u001b[0m\u001b[0;34m=\u001b[0m\u001b[0;34m'neg_mean_squared_error'\u001b[0m\u001b[0;34m)\u001b[0m\u001b[0;34m\u001b[0m\u001b[0;34m\u001b[0m\u001b[0m\n\u001b[0m\u001b[1;32m      5\u001b[0m   \u001b[0mrmse\u001b[0m \u001b[0;34m=\u001b[0m \u001b[0mnp\u001b[0m\u001b[0;34m.\u001b[0m\u001b[0msqrt\u001b[0m\u001b[0;34m(\u001b[0m\u001b[0;34m-\u001b[0m\u001b[0mresults\u001b[0m\u001b[0;34m)\u001b[0m\u001b[0;34m.\u001b[0m\u001b[0mmean\u001b[0m\u001b[0;34m(\u001b[0m\u001b[0;34m)\u001b[0m\u001b[0;34m\u001b[0m\u001b[0;34m\u001b[0m\u001b[0m\n\u001b[1;32m      6\u001b[0m \u001b[0;34m\u001b[0m\u001b[0m\n",
            "\u001b[0;32m/usr/local/lib/python3.7/dist-packages/sklearn/model_selection/_validation.py\u001b[0m in \u001b[0;36mcross_val_score\u001b[0;34m(estimator, X, y, groups, scoring, cv, n_jobs, verbose, fit_params, pre_dispatch, error_score)\u001b[0m\n\u001b[1;32m    388\u001b[0m                                 \u001b[0mfit_params\u001b[0m\u001b[0;34m=\u001b[0m\u001b[0mfit_params\u001b[0m\u001b[0;34m,\u001b[0m\u001b[0;34m\u001b[0m\u001b[0;34m\u001b[0m\u001b[0m\n\u001b[1;32m    389\u001b[0m                                 \u001b[0mpre_dispatch\u001b[0m\u001b[0;34m=\u001b[0m\u001b[0mpre_dispatch\u001b[0m\u001b[0;34m,\u001b[0m\u001b[0;34m\u001b[0m\u001b[0;34m\u001b[0m\u001b[0m\n\u001b[0;32m--> 390\u001b[0;31m                                 error_score=error_score)\n\u001b[0m\u001b[1;32m    391\u001b[0m     \u001b[0;32mreturn\u001b[0m \u001b[0mcv_results\u001b[0m\u001b[0;34m[\u001b[0m\u001b[0;34m'test_score'\u001b[0m\u001b[0;34m]\u001b[0m\u001b[0;34m\u001b[0m\u001b[0;34m\u001b[0m\u001b[0m\n\u001b[1;32m    392\u001b[0m \u001b[0;34m\u001b[0m\u001b[0m\n",
            "\u001b[0;32m/usr/local/lib/python3.7/dist-packages/sklearn/model_selection/_validation.py\u001b[0m in \u001b[0;36mcross_validate\u001b[0;34m(estimator, X, y, groups, scoring, cv, n_jobs, verbose, fit_params, pre_dispatch, return_train_score, return_estimator, error_score)\u001b[0m\n\u001b[1;32m    234\u001b[0m             \u001b[0mreturn_times\u001b[0m\u001b[0;34m=\u001b[0m\u001b[0;32mTrue\u001b[0m\u001b[0;34m,\u001b[0m \u001b[0mreturn_estimator\u001b[0m\u001b[0;34m=\u001b[0m\u001b[0mreturn_estimator\u001b[0m\u001b[0;34m,\u001b[0m\u001b[0;34m\u001b[0m\u001b[0;34m\u001b[0m\u001b[0m\n\u001b[1;32m    235\u001b[0m             error_score=error_score)\n\u001b[0;32m--> 236\u001b[0;31m         for train, test in cv.split(X, y, groups))\n\u001b[0m\u001b[1;32m    237\u001b[0m \u001b[0;34m\u001b[0m\u001b[0m\n\u001b[1;32m    238\u001b[0m     \u001b[0mzipped_scores\u001b[0m \u001b[0;34m=\u001b[0m \u001b[0mlist\u001b[0m\u001b[0;34m(\u001b[0m\u001b[0mzip\u001b[0m\u001b[0;34m(\u001b[0m\u001b[0;34m*\u001b[0m\u001b[0mscores\u001b[0m\u001b[0;34m)\u001b[0m\u001b[0;34m)\u001b[0m\u001b[0;34m\u001b[0m\u001b[0;34m\u001b[0m\u001b[0m\n",
            "\u001b[0;32m/usr/local/lib/python3.7/dist-packages/joblib/parallel.py\u001b[0m in \u001b[0;36m__call__\u001b[0;34m(self, iterable)\u001b[0m\n\u001b[1;32m   1039\u001b[0m             \u001b[0;31m# remaining jobs.\u001b[0m\u001b[0;34m\u001b[0m\u001b[0;34m\u001b[0m\u001b[0;34m\u001b[0m\u001b[0m\n\u001b[1;32m   1040\u001b[0m             \u001b[0mself\u001b[0m\u001b[0;34m.\u001b[0m\u001b[0m_iterating\u001b[0m \u001b[0;34m=\u001b[0m \u001b[0;32mFalse\u001b[0m\u001b[0;34m\u001b[0m\u001b[0;34m\u001b[0m\u001b[0m\n\u001b[0;32m-> 1041\u001b[0;31m             \u001b[0;32mif\u001b[0m \u001b[0mself\u001b[0m\u001b[0;34m.\u001b[0m\u001b[0mdispatch_one_batch\u001b[0m\u001b[0;34m(\u001b[0m\u001b[0miterator\u001b[0m\u001b[0;34m)\u001b[0m\u001b[0;34m:\u001b[0m\u001b[0;34m\u001b[0m\u001b[0;34m\u001b[0m\u001b[0m\n\u001b[0m\u001b[1;32m   1042\u001b[0m                 \u001b[0mself\u001b[0m\u001b[0;34m.\u001b[0m\u001b[0m_iterating\u001b[0m \u001b[0;34m=\u001b[0m \u001b[0mself\u001b[0m\u001b[0;34m.\u001b[0m\u001b[0m_original_iterator\u001b[0m \u001b[0;32mis\u001b[0m \u001b[0;32mnot\u001b[0m \u001b[0;32mNone\u001b[0m\u001b[0;34m\u001b[0m\u001b[0;34m\u001b[0m\u001b[0m\n\u001b[1;32m   1043\u001b[0m \u001b[0;34m\u001b[0m\u001b[0m\n",
            "\u001b[0;32m/usr/local/lib/python3.7/dist-packages/joblib/parallel.py\u001b[0m in \u001b[0;36mdispatch_one_batch\u001b[0;34m(self, iterator)\u001b[0m\n\u001b[1;32m    829\u001b[0m                 \u001b[0mbig_batch_size\u001b[0m \u001b[0;34m=\u001b[0m \u001b[0mbatch_size\u001b[0m \u001b[0;34m*\u001b[0m \u001b[0mn_jobs\u001b[0m\u001b[0;34m\u001b[0m\u001b[0;34m\u001b[0m\u001b[0m\n\u001b[1;32m    830\u001b[0m \u001b[0;34m\u001b[0m\u001b[0m\n\u001b[0;32m--> 831\u001b[0;31m                 \u001b[0mislice\u001b[0m \u001b[0;34m=\u001b[0m \u001b[0mlist\u001b[0m\u001b[0;34m(\u001b[0m\u001b[0mitertools\u001b[0m\u001b[0;34m.\u001b[0m\u001b[0mislice\u001b[0m\u001b[0;34m(\u001b[0m\u001b[0miterator\u001b[0m\u001b[0;34m,\u001b[0m \u001b[0mbig_batch_size\u001b[0m\u001b[0;34m)\u001b[0m\u001b[0;34m)\u001b[0m\u001b[0;34m\u001b[0m\u001b[0;34m\u001b[0m\u001b[0m\n\u001b[0m\u001b[1;32m    832\u001b[0m                 \u001b[0;32mif\u001b[0m \u001b[0mlen\u001b[0m\u001b[0;34m(\u001b[0m\u001b[0mislice\u001b[0m\u001b[0;34m)\u001b[0m \u001b[0;34m==\u001b[0m \u001b[0;36m0\u001b[0m\u001b[0;34m:\u001b[0m\u001b[0;34m\u001b[0m\u001b[0;34m\u001b[0m\u001b[0m\n\u001b[1;32m    833\u001b[0m                     \u001b[0;32mreturn\u001b[0m \u001b[0;32mFalse\u001b[0m\u001b[0;34m\u001b[0m\u001b[0;34m\u001b[0m\u001b[0m\n",
            "\u001b[0;32m/usr/local/lib/python3.7/dist-packages/sklearn/model_selection/_validation.py\u001b[0m in \u001b[0;36m<genexpr>\u001b[0;34m(.0)\u001b[0m\n\u001b[1;32m    234\u001b[0m             \u001b[0mreturn_times\u001b[0m\u001b[0;34m=\u001b[0m\u001b[0;32mTrue\u001b[0m\u001b[0;34m,\u001b[0m \u001b[0mreturn_estimator\u001b[0m\u001b[0;34m=\u001b[0m\u001b[0mreturn_estimator\u001b[0m\u001b[0;34m,\u001b[0m\u001b[0;34m\u001b[0m\u001b[0;34m\u001b[0m\u001b[0m\n\u001b[1;32m    235\u001b[0m             error_score=error_score)\n\u001b[0;32m--> 236\u001b[0;31m         for train, test in cv.split(X, y, groups))\n\u001b[0m\u001b[1;32m    237\u001b[0m \u001b[0;34m\u001b[0m\u001b[0m\n\u001b[1;32m    238\u001b[0m     \u001b[0mzipped_scores\u001b[0m \u001b[0;34m=\u001b[0m \u001b[0mlist\u001b[0m\u001b[0;34m(\u001b[0m\u001b[0mzip\u001b[0m\u001b[0;34m(\u001b[0m\u001b[0;34m*\u001b[0m\u001b[0mscores\u001b[0m\u001b[0;34m)\u001b[0m\u001b[0;34m)\u001b[0m\u001b[0;34m\u001b[0m\u001b[0;34m\u001b[0m\u001b[0m\n",
            "\u001b[0;32m/usr/local/lib/python3.7/dist-packages/sklearn/base.py\u001b[0m in \u001b[0;36mclone\u001b[0;34m(estimator, safe)\u001b[0m\n\u001b[1;32m     65\u001b[0m                             \u001b[0;34m\"it does not seem to be a scikit-learn estimator \"\u001b[0m\u001b[0;34m\u001b[0m\u001b[0;34m\u001b[0m\u001b[0m\n\u001b[1;32m     66\u001b[0m                             \u001b[0;34m\"as it does not implement a 'get_params' methods.\"\u001b[0m\u001b[0;34m\u001b[0m\u001b[0;34m\u001b[0m\u001b[0m\n\u001b[0;32m---> 67\u001b[0;31m                             % (repr(estimator), type(estimator)))\n\u001b[0m\u001b[1;32m     68\u001b[0m     \u001b[0mklass\u001b[0m \u001b[0;34m=\u001b[0m \u001b[0mestimator\u001b[0m\u001b[0;34m.\u001b[0m\u001b[0m__class__\u001b[0m\u001b[0;34m\u001b[0m\u001b[0;34m\u001b[0m\u001b[0m\n\u001b[1;32m     69\u001b[0m     \u001b[0mnew_object_params\u001b[0m \u001b[0;34m=\u001b[0m \u001b[0mestimator\u001b[0m\u001b[0;34m.\u001b[0m\u001b[0mget_params\u001b[0m\u001b[0;34m(\u001b[0m\u001b[0mdeep\u001b[0m\u001b[0;34m=\u001b[0m\u001b[0;32mFalse\u001b[0m\u001b[0;34m)\u001b[0m\u001b[0;34m\u001b[0m\u001b[0;34m\u001b[0m\u001b[0m\n",
            "\u001b[0;31mTypeError\u001b[0m: Cannot clone object '<class 'xgboost.sklearn.XGBRegressor'>' (type <class 'type'>): it does not seem to be a scikit-learn estimator as it does not implement a 'get_params' methods."
          ]
        }
      ]
    },
    {
      "cell_type": "code",
      "metadata": {
        "id": "X7-7ZTwAHewL"
      },
      "source": [
        "from xgboost import plot_importance\n",
        "\n",
        "def modelfit(alg, dtrain, predictors,useTrainCV=True, cv_folds=5, early_stopping_rounds=50):\n",
        "   \n",
        "  if useTrainCV: \n",
        "    xgb_param = alg.get_xgb_params()\n",
        "    xgtrain = xgb.DMatrix(dtrain[predictors].values, label=dtrain[target].values)\n",
        "    cvresult = xgb.cv(xgb_param, xgtrain, num_boost_round=alg.get_params()['n_estimators'], nfold=cv_folds,\n",
        "        metrics='rmse', early_stopping_rounds=early_stopping_rounds, verbose_eval=False)\n",
        "    \n",
        "    alg.set_params(n_estimators=cvresult.shape[0])\n",
        "\n",
        "  print(cvresult.shape[0])\n",
        "  #Fit the algorithm on the data\n",
        "  alg.fit(dtrain[predictors], dtrain['Per_Person_Price'],eval_metric='rmse')\n",
        "      \n",
        "  #Predict training set:\n",
        "  dtrain_predictions = alg.predict(dtrain[predictors])\n",
        "  #dtrain_predprob = alg.predict_proba(dtrain[predictors])[:,1]\n",
        "      \n",
        "  #Print model report:\n",
        "  print (\"\\nModel Report\")\n",
        "  print (\"RMSLE : %.4g\" %  np.sqrt(mean_squared_log_error(dtrain['Per_Person_Price'].values, dtrain_predictions)))\n",
        "  #print \"RMSLE (Train): %f\" % metrics.roc_auc_score(dtrain['Per_Person_Price'], dtrain_predprob)\n",
        "  try:        \n",
        "    fig, ax = plt.subplots(1,1,figsize=figsize)\n",
        "    plot_importance(booster=alg, ax=ax)   \n",
        "  except:\n",
        "    pass"
      ],
      "execution_count": null,
      "outputs": []
    },
    {
      "cell_type": "code",
      "metadata": {
        "id": "-uW-fQVAHiYt"
      },
      "source": [
        "target='Per_Person_Price'\n",
        "\n",
        "predictors = [x for x in X_train.columns if x not in [target]]\n",
        "\n",
        "xgb1 = XGBRegressor(\n",
        " learning_rate =0.1,\n",
        " n_estimators=1000,\n",
        " max_depth=8,\n",
        " min_child_weight=1,\n",
        " gamma=0,\n",
        " subsample=0.8,\n",
        " colsample_bytree=0.8,\n",
        " objective= 'reg:squarederror',\n",
        " nthread=4,\n",
        " scale_pos_weight=1,\n",
        " seed=27)\n"
      ],
      "execution_count": null,
      "outputs": []
    },
    {
      "cell_type": "code",
      "metadata": {
        "id": "3yoE1cViHkov"
      },
      "source": [
        "from sklearn.model_selection import GridSearchCV"
      ],
      "execution_count": null,
      "outputs": []
    },
    {
      "cell_type": "code",
      "metadata": {
        "id": "JTpYVnviHmZI",
        "colab": {
          "base_uri": "https://localhost:8080/"
        },
        "outputId": "8fcecbfe-1806-4c9e-9870-a5339ca0fd08"
      },
      "source": [
        "param_test1 = {\n",
        " 'max_depth':range(3,15,2),\n",
        " 'min_child_weight':range(1,6,2)\n",
        "}\n",
        "gsearch1 = GridSearchCV(estimator = XGBRegressor( learning_rate =0.1, n_estimators=437, max_depth=8,\n",
        " min_child_weight=1, gamma=0, subsample=0.9, colsample_bytree=0.8,\n",
        " objective= 'reg:squarederror', nthread=4, scale_pos_weight=1, seed=27), \n",
        "\n",
        "param_grid = param_test1, scoring='neg_root_mean_squared_error',n_jobs=4,iid=False,cv=4)\n",
        "\n",
        "\n",
        "gsearch1.fit(X_train[predictors],X_train[target])\n",
        "gsearch1.cv_results_, gsearch1.best_params_, gsearch1.best_score_"
      ],
      "execution_count": null,
      "outputs": [
        {
          "output_type": "stream",
          "text": [
            "/usr/local/lib/python3.7/dist-packages/sklearn/model_selection/_search.py:823: FutureWarning: The parameter 'iid' is deprecated in 0.22 and will be removed in 0.24.\n",
            "  \"removed in 0.24.\", FutureWarning\n"
          ],
          "name": "stderr"
        },
        {
          "output_type": "execute_result",
          "data": {
            "text/plain": [
              "({'mean_fit_time': array([137.10920393, 137.97056758, 138.33289719, 208.55285215,\n",
              "         208.39987266, 211.57123601, 288.26888865, 283.92457569,\n",
              "         281.33597028, 380.31921905, 361.47836912, 360.65028852,\n",
              "         462.68976325, 439.525267  , 434.39804047, 553.80408853,\n",
              "         527.25888914, 493.33392453]),\n",
              "  'mean_score_time': array([0.31381148, 0.31409019, 0.33518362, 0.40304309, 0.37552756,\n",
              "         0.36205733, 0.60620612, 0.51523685, 0.51001781, 0.86455441,\n",
              "         0.73442781, 0.74242169, 1.19096702, 1.02359849, 0.97774619,\n",
              "         1.66721511, 1.33466268, 0.78774822]),\n",
              "  'mean_test_score': array([-4764.44331402, -4806.8197904 , -4814.36370252, -4470.45754624,\n",
              "         -4490.25280263, -4524.89958673, -4405.49669037, -4428.04378325,\n",
              "         -4403.92243238, -4409.34267015, -4405.6476496 , -4392.38900891,\n",
              "         -4449.97103751, -4436.50017966, -4434.24069188, -4512.9981788 ,\n",
              "         -4485.37031754, -4437.70053877]),\n",
              "  'param_max_depth': masked_array(data=[3, 3, 3, 5, 5, 5, 7, 7, 7, 9, 9, 9, 11, 11, 11, 13, 13,\n",
              "                     13],\n",
              "               mask=[False, False, False, False, False, False, False, False,\n",
              "                     False, False, False, False, False, False, False, False,\n",
              "                     False, False],\n",
              "         fill_value='?',\n",
              "              dtype=object),\n",
              "  'param_min_child_weight': masked_array(data=[1, 3, 5, 1, 3, 5, 1, 3, 5, 1, 3, 5, 1, 3, 5, 1, 3, 5],\n",
              "               mask=[False, False, False, False, False, False, False, False,\n",
              "                     False, False, False, False, False, False, False, False,\n",
              "                     False, False],\n",
              "         fill_value='?',\n",
              "              dtype=object),\n",
              "  'params': [{'max_depth': 3, 'min_child_weight': 1},\n",
              "   {'max_depth': 3, 'min_child_weight': 3},\n",
              "   {'max_depth': 3, 'min_child_weight': 5},\n",
              "   {'max_depth': 5, 'min_child_weight': 1},\n",
              "   {'max_depth': 5, 'min_child_weight': 3},\n",
              "   {'max_depth': 5, 'min_child_weight': 5},\n",
              "   {'max_depth': 7, 'min_child_weight': 1},\n",
              "   {'max_depth': 7, 'min_child_weight': 3},\n",
              "   {'max_depth': 7, 'min_child_weight': 5},\n",
              "   {'max_depth': 9, 'min_child_weight': 1},\n",
              "   {'max_depth': 9, 'min_child_weight': 3},\n",
              "   {'max_depth': 9, 'min_child_weight': 5},\n",
              "   {'max_depth': 11, 'min_child_weight': 1},\n",
              "   {'max_depth': 11, 'min_child_weight': 3},\n",
              "   {'max_depth': 11, 'min_child_weight': 5},\n",
              "   {'max_depth': 13, 'min_child_weight': 1},\n",
              "   {'max_depth': 13, 'min_child_weight': 3},\n",
              "   {'max_depth': 13, 'min_child_weight': 5}],\n",
              "  'rank_test_score': array([16, 17, 18, 11, 13, 15,  3,  6,  2,  5,  4,  1, 10,  8,  7, 14, 12,\n",
              "          9], dtype=int32),\n",
              "  'split0_test_score': array([-4746.23811017, -4735.31177089, -4743.72006054, -4429.2457237 ,\n",
              "         -4477.63026211, -4473.15188963, -4383.69679256, -4490.21014967,\n",
              "         -4426.85985589, -4372.78983294, -4467.56496792, -4437.92904714,\n",
              "         -4425.46953968, -4513.66496272, -4461.52796465, -4473.28355194,\n",
              "         -4574.57292899, -4475.8008055 ]),\n",
              "  'split1_test_score': array([-4538.20682896, -4547.9683663 , -4583.32832349, -4204.78548281,\n",
              "         -4217.81837327, -4270.12102417, -4091.04726178, -4098.39476804,\n",
              "         -4129.36676379, -4080.91520651, -4103.95768759, -4058.2353668 ,\n",
              "         -4099.50092776, -4114.20505582, -4099.13858711, -4197.11316707,\n",
              "         -4151.08485936, -4078.95836417]),\n",
              "  'split2_test_score': array([-4688.36379356, -4749.18931389, -4703.38573634, -4295.79120602,\n",
              "         -4323.67510158, -4361.38385424, -4225.62936141, -4280.77098864,\n",
              "         -4212.67487416, -4262.86455026, -4221.71364859, -4167.9418355 ,\n",
              "         -4245.91117369, -4232.55077444, -4256.91854545, -4286.95355665,\n",
              "         -4295.1209574 , -4249.75740569]),\n",
              "  'split3_test_score': array([-5084.96452339, -5194.80971051, -5227.0206897 , -4952.00777244,\n",
              "         -4941.88747358, -4994.94157888, -4921.61334573, -4842.79922667,\n",
              "         -4846.78823567, -4920.80109088, -4829.35429432, -4905.4497862 ,\n",
              "         -5029.00250891, -4885.57992565, -4919.37767032, -5094.64243956,\n",
              "         -4920.70252443, -4946.28557971]),\n",
              "  'std_fit_time': array([ 0.99084573,  0.54521332,  0.70946027,  1.99562403,  2.64935331,\n",
              "          1.75023245,  2.17345108,  3.36616276,  3.27911616,  3.4795178 ,\n",
              "          4.07300457,  4.01409372,  6.2729447 ,  5.73655775,  5.35891691,\n",
              "          6.97784847, 10.00378469, 41.65659881]),\n",
              "  'std_score_time': array([0.04179486, 0.10544334, 0.06248329, 0.06676822, 0.06492227,\n",
              "         0.09470608, 0.07484812, 0.03647509, 0.09740297, 0.0453708 ,\n",
              "         0.08678716, 0.09049873, 0.11115621, 0.09617929, 0.06264034,\n",
              "         0.04983125, 0.06637135, 0.44671474]),\n",
              "  'std_test_score': array([200.02269603, 237.68408999, 245.44335831, 289.25724294,\n",
              "         276.63236132, 280.74312514, 315.46883232, 276.69680348,\n",
              "         277.76459853, 313.14783431, 277.58315195, 326.85640825,\n",
              "         353.67622698, 297.10962991, 308.15541831, 350.27375347,\n",
              "         293.85915965, 325.62591394])},\n",
              " {'max_depth': 9, 'min_child_weight': 5},\n",
              " -4392.38900890876)"
            ]
          },
          "metadata": {
            "tags": []
          },
          "execution_count": 22
        }
      ]
    },
    {
      "cell_type": "code",
      "metadata": {
        "colab": {
          "base_uri": "https://localhost:8080/"
        },
        "id": "qcq5NwUdgl-T",
        "outputId": "506b9b05-457f-4e3c-a3a6-f7ac9fb51206"
      },
      "source": [
        "param_test1 = {\n",
        " 'max_depth':[8,9,10],\n",
        " 'min_child_weight':[4,5,6]\n",
        "}\n",
        "gsearch1 = GridSearchCV(estimator = XGBRegressor( learning_rate =0.1, n_estimators=437, max_depth=8,\n",
        " min_child_weight=1, gamma=0, subsample=0.9, colsample_bytree=0.8,\n",
        " objective= 'reg:squarederror', nthread=4, scale_pos_weight=1, seed=27), \n",
        "\n",
        "param_grid = param_test1, scoring='neg_root_mean_squared_error',n_jobs=4,iid=False,cv=4)\n",
        "\n",
        "\n",
        "gsearch1.fit(X_train[predictors],X_train[target])\n",
        "gsearch1.cv_results_, gsearch1.best_params_, gsearch1.best_score_"
      ],
      "execution_count": null,
      "outputs": [
        {
          "output_type": "stream",
          "text": [
            "/usr/local/lib/python3.7/dist-packages/sklearn/model_selection/_search.py:823: FutureWarning: The parameter 'iid' is deprecated in 0.22 and will be removed in 0.24.\n",
            "  \"removed in 0.24.\", FutureWarning\n"
          ],
          "name": "stderr"
        },
        {
          "output_type": "execute_result",
          "data": {
            "text/plain": [
              "({'mean_fit_time': array([327.28820622, 324.97725344, 321.99091452, 354.25844616,\n",
              "         350.1393314 , 351.57459354, 400.93035245, 396.01267719,\n",
              "         384.17626458]),\n",
              "  'mean_score_time': array([0.53357178, 0.51312691, 0.48718965, 0.57661521, 0.57032239,\n",
              "         0.68233627, 0.82114893, 0.81224978, 0.4477666 ]),\n",
              "  'mean_test_score': array([-4383.17534107, -4399.82354965, -4419.85679372, -4395.97027111,\n",
              "         -4392.38900891, -4433.9316791 , -4409.75818437, -4398.67150846,\n",
              "         -4437.58474944]),\n",
              "  'param_max_depth': masked_array(data=[8, 8, 8, 9, 9, 9, 10, 10, 10],\n",
              "               mask=[False, False, False, False, False, False, False, False,\n",
              "                     False],\n",
              "         fill_value='?',\n",
              "              dtype=object),\n",
              "  'param_min_child_weight': masked_array(data=[4, 5, 6, 4, 5, 6, 4, 5, 6],\n",
              "               mask=[False, False, False, False, False, False, False, False,\n",
              "                     False],\n",
              "         fill_value='?',\n",
              "              dtype=object),\n",
              "  'params': [{'max_depth': 8, 'min_child_weight': 4},\n",
              "   {'max_depth': 8, 'min_child_weight': 5},\n",
              "   {'max_depth': 8, 'min_child_weight': 6},\n",
              "   {'max_depth': 9, 'min_child_weight': 4},\n",
              "   {'max_depth': 9, 'min_child_weight': 5},\n",
              "   {'max_depth': 9, 'min_child_weight': 6},\n",
              "   {'max_depth': 10, 'min_child_weight': 4},\n",
              "   {'max_depth': 10, 'min_child_weight': 5},\n",
              "   {'max_depth': 10, 'min_child_weight': 6}],\n",
              "  'rank_test_score': array([1, 5, 7, 3, 2, 8, 6, 4, 9], dtype=int32),\n",
              "  'split0_test_score': array([-4409.44984035, -4434.0239712 , -4490.01935615, -4437.40122046,\n",
              "         -4437.92904714, -4558.40283308, -4459.45530932, -4395.95410207,\n",
              "         -4498.04500164]),\n",
              "  'split1_test_score': array([-4064.80784059, -4077.49910921, -4106.94666872, -4076.38977799,\n",
              "         -4058.2353668 , -4111.81467626, -4039.35467725, -4081.78972897,\n",
              "         -4140.5745587 ]),\n",
              "  'split2_test_score': array([-4204.74758916, -4205.97544213, -4196.93747953, -4219.76445847,\n",
              "         -4167.9418355 , -4202.78036555, -4234.04758906, -4205.6376338 ,\n",
              "         -4184.73255697]),\n",
              "  'split3_test_score': array([-4853.69609418, -4881.79567606, -4885.52367045, -4850.32562751,\n",
              "         -4905.4497862 , -4862.72884153, -4906.17516184, -4911.30456899,\n",
              "         -4926.98688045]),\n",
              "  'std_fit_time': array([0.62118971, 0.73650819, 0.34687839, 0.89702906, 0.74433447,\n",
              "         1.16504602, 1.44859341, 1.22227113, 1.28616046]),\n",
              "  'std_score_time': array([0.10255512, 0.0374452 , 0.0506405 , 0.14642426, 0.0894033 ,\n",
              "         0.08726239, 0.09626737, 0.09721898, 0.24559439]),\n",
              "  'std_test_score': array([298.02451931, 306.16046984, 303.88081225, 292.11962166,\n",
              "         326.85640825, 298.55919344, 322.86707448, 316.41593591,\n",
              "         314.37206165])},\n",
              " {'max_depth': 8, 'min_child_weight': 4},\n",
              " -4383.175341070379)"
            ]
          },
          "metadata": {
            "tags": []
          },
          "execution_count": 26
        }
      ]
    },
    {
      "cell_type": "code",
      "metadata": {
        "colab": {
          "base_uri": "https://localhost:8080/"
        },
        "id": "dHBntpYag4lx",
        "outputId": "b056edf5-4c81-49b4-cd42-eaa266c693a3"
      },
      "source": [
        "param_test3 = {\n",
        " 'gamma':[i/10.0 for i in range(0,5)]\n",
        "}\n",
        "gsearch1 = GridSearchCV(estimator = XGBRegressor( learning_rate =0.1, n_estimators=437, max_depth=8,\n",
        " min_child_weight=4, gamma=0, subsample=0.9, colsample_bytree=0.8,\n",
        " objective= 'reg:squarederror', nthread=4, scale_pos_weight=1, seed=27), \n",
        "\n",
        "param_grid = param_test3, scoring='neg_root_mean_squared_error',n_jobs=4,iid=False,cv=4)\n",
        "\n",
        "gsearch1.fit(X_train[predictors],X_train[target])\n",
        "gsearch1.cv_results_, gsearch1.best_params_, gsearch1.best_score_"
      ],
      "execution_count": null,
      "outputs": [
        {
          "output_type": "stream",
          "text": [
            "/usr/local/lib/python3.7/dist-packages/sklearn/model_selection/_search.py:823: FutureWarning: The parameter 'iid' is deprecated in 0.22 and will be removed in 0.24.\n",
            "  \"removed in 0.24.\", FutureWarning\n"
          ],
          "name": "stderr"
        },
        {
          "output_type": "execute_result",
          "data": {
            "text/plain": [
              "({'mean_fit_time': array([328.86963403, 324.19549239, 328.46230924, 328.02756613,\n",
              "         323.55264866]),\n",
              "  'mean_score_time': array([0.6145137 , 0.55590796, 0.58160603, 0.55762368, 0.33785737]),\n",
              "  'mean_test_score': array([-4383.17534107, -4383.17534107, -4383.17534107, -4383.17534107,\n",
              "         -4383.17534107]),\n",
              "  'param_gamma': masked_array(data=[0.0, 0.1, 0.2, 0.3, 0.4],\n",
              "               mask=[False, False, False, False, False],\n",
              "         fill_value='?',\n",
              "              dtype=object),\n",
              "  'params': [{'gamma': 0.0},\n",
              "   {'gamma': 0.1},\n",
              "   {'gamma': 0.2},\n",
              "   {'gamma': 0.3},\n",
              "   {'gamma': 0.4}],\n",
              "  'rank_test_score': array([1, 1, 1, 1, 1], dtype=int32),\n",
              "  'split0_test_score': array([-4409.44984035, -4409.44984035, -4409.44984035, -4409.44984035,\n",
              "         -4409.44984035]),\n",
              "  'split1_test_score': array([-4064.80784059, -4064.80784059, -4064.80784059, -4064.80784059,\n",
              "         -4064.80784059]),\n",
              "  'split2_test_score': array([-4204.74758916, -4204.74758916, -4204.74758916, -4204.74758916,\n",
              "         -4204.74758916]),\n",
              "  'split3_test_score': array([-4853.69609418, -4853.69609418, -4853.69609418, -4853.69609418,\n",
              "         -4853.69609418]),\n",
              "  'std_fit_time': array([0.72718183, 1.31144626, 1.2954017 , 0.95983542, 1.42888389]),\n",
              "  'std_score_time': array([0.19240162, 0.05709191, 0.05250348, 0.0446506 , 0.18404448]),\n",
              "  'std_test_score': array([298.02451931, 298.02451931, 298.02451931, 298.02451931,\n",
              "         298.02451931])},\n",
              " {'gamma': 0.0},\n",
              " -4383.175341070379)"
            ]
          },
          "metadata": {
            "tags": []
          },
          "execution_count": 28
        }
      ]
    },
    {
      "cell_type": "code",
      "metadata": {
        "colab": {
          "base_uri": "https://localhost:8080/"
        },
        "id": "Lfui6BQcSXp1",
        "outputId": "c10188ac-7c24-4373-fa6f-886d10c96d42"
      },
      "source": [
        "target='Per_Person_Price'\n",
        "\n",
        "predictors = [x for x in X_train.columns if x not in [target]]\n",
        "\n",
        "xgb2 = XGBRegressor(\n",
        " learning_rate =0.1,\n",
        " n_estimators=2000,\n",
        " max_depth=8,\n",
        " min_child_weight=4,\n",
        " gamma=0,\n",
        " subsample=0.9,\n",
        " colsample_bytree=0.8,\n",
        " objective= 'reg:squarederror',\n",
        " nthread=4,\n",
        " scale_pos_weight=1,\n",
        " seed=27)\n",
        "modelfit(xgb2, X_train, predictors)"
      ],
      "execution_count": null,
      "outputs": [
        {
          "output_type": "stream",
          "text": [
            "518\n",
            "\n",
            "Model Report\n",
            "RMSLE : 0.1166\n"
          ],
          "name": "stdout"
        }
      ]
    },
    {
      "cell_type": "code",
      "metadata": {
        "colab": {
          "base_uri": "https://localhost:8080/"
        },
        "id": "i-v8QpNs_Rnz",
        "outputId": "113fc6e5-a868-40bc-b657-5082a3a0d757"
      },
      "source": [
        "param_test4 = {\n",
        " 'subsample':[i/10.0 for i in range(6,10)],\n",
        " 'colsample_bytree':[i/10.0 for i in range(6,10)]\n",
        "}\n",
        "\n",
        "gsearch4 = GridSearchCV(estimator = XGBRegressor( learning_rate =0.1, n_estimators=518, max_depth=8,\n",
        " min_child_weight=4, gamma=0, subsample=0.9, colsample_bytree=0.8,\n",
        " objective= 'reg:squarederror', nthread=4, scale_pos_weight=1,seed=27), \n",
        " param_grid = param_test4, scoring='neg_root_mean_squared_error',n_jobs=4,iid=False, cv=5)\n",
        "\n",
        "gsearch4.fit(X_train[predictors],X_train[target])\n"
      ],
      "execution_count": null,
      "outputs": [
        {
          "output_type": "stream",
          "text": [
            "/usr/local/lib/python3.7/dist-packages/sklearn/model_selection/_search.py:823: FutureWarning: The parameter 'iid' is deprecated in 0.22 and will be removed in 0.24.\n",
            "  \"removed in 0.24.\", FutureWarning\n"
          ],
          "name": "stderr"
        },
        {
          "output_type": "execute_result",
          "data": {
            "text/plain": [
              "({'mean_fit_time': array([386.53951235, 363.042735  , 338.37822924, 313.3070035 ,\n",
              "         433.91691971, 417.32392507, 392.03924212, 362.10139155,\n",
              "         495.66273103, 469.06437483, 432.19817591, 396.51340113,\n",
              "         539.60126262, 514.24307046, 475.9884151 , 431.9227118 ]),\n",
              "  'mean_score_time': array([0.51508894, 0.49074626, 0.55725942, 0.50304551, 0.50650969,\n",
              "         0.54222612, 0.51850076, 0.53687315, 0.53671861, 0.55969405,\n",
              "         0.5549365 , 0.55097036, 0.54518681, 0.52166924, 0.61391954,\n",
              "         0.33001447]),\n",
              "  'mean_test_score': array([-4445.90781459, -4460.59786581, -4397.04382855, -4387.32062126,\n",
              "         -4448.06398177, -4450.15904614, -4415.20845629, -4416.59335342,\n",
              "         -4450.08908655, -4443.18480748, -4436.98396207, -4427.88942775,\n",
              "         -4459.39004002, -4447.95111081, -4447.4044389 , -4436.5845876 ]),\n",
              "  'param_colsample_bytree': masked_array(data=[0.6, 0.6, 0.6, 0.6, 0.7, 0.7, 0.7, 0.7, 0.8, 0.8, 0.8,\n",
              "                     0.8, 0.9, 0.9, 0.9, 0.9],\n",
              "               mask=[False, False, False, False, False, False, False, False,\n",
              "                     False, False, False, False, False, False, False, False],\n",
              "         fill_value='?',\n",
              "              dtype=object),\n",
              "  'param_subsample': masked_array(data=[0.6, 0.7, 0.8, 0.9, 0.6, 0.7, 0.8, 0.9, 0.6, 0.7, 0.8,\n",
              "                     0.9, 0.6, 0.7, 0.8, 0.9],\n",
              "               mask=[False, False, False, False, False, False, False, False,\n",
              "                     False, False, False, False, False, False, False, False],\n",
              "         fill_value='?',\n",
              "              dtype=object),\n",
              "  'params': [{'colsample_bytree': 0.6, 'subsample': 0.6},\n",
              "   {'colsample_bytree': 0.6, 'subsample': 0.7},\n",
              "   {'colsample_bytree': 0.6, 'subsample': 0.8},\n",
              "   {'colsample_bytree': 0.6, 'subsample': 0.9},\n",
              "   {'colsample_bytree': 0.7, 'subsample': 0.6},\n",
              "   {'colsample_bytree': 0.7, 'subsample': 0.7},\n",
              "   {'colsample_bytree': 0.7, 'subsample': 0.8},\n",
              "   {'colsample_bytree': 0.7, 'subsample': 0.9},\n",
              "   {'colsample_bytree': 0.8, 'subsample': 0.6},\n",
              "   {'colsample_bytree': 0.8, 'subsample': 0.7},\n",
              "   {'colsample_bytree': 0.8, 'subsample': 0.8},\n",
              "   {'colsample_bytree': 0.8, 'subsample': 0.9},\n",
              "   {'colsample_bytree': 0.9, 'subsample': 0.6},\n",
              "   {'colsample_bytree': 0.9, 'subsample': 0.7},\n",
              "   {'colsample_bytree': 0.9, 'subsample': 0.8},\n",
              "   {'colsample_bytree': 0.9, 'subsample': 0.9}],\n",
              "  'rank_test_score': array([ 9, 16,  2,  1, 12, 14,  3,  4, 13,  8,  7,  5, 15, 11, 10,  6],\n",
              "        dtype=int32),\n",
              "  'split0_test_score': array([-4470.43892238, -4559.42030852, -4413.27878538, -4421.77553431,\n",
              "         -4449.36623639, -4465.35452248, -4448.83233534, -4412.57420956,\n",
              "         -4413.40185318, -4488.81343075, -4473.10961059, -4449.97887701,\n",
              "         -4494.42278786, -4457.67886028, -4396.63938473, -4445.66450596]),\n",
              "  'split1_test_score': array([-4133.14994189, -4133.77058782, -4092.00072352, -4154.00827259,\n",
              "         -4149.81615473, -4150.84005856, -4144.18964356, -4178.67984597,\n",
              "         -4186.71995305, -4125.93719407, -4095.89685358, -4137.59087409,\n",
              "         -4262.8246023 , -4193.29241604, -4143.0712572 , -4196.17903936]),\n",
              "  'split2_test_score': array([-4105.02116298, -4087.88295106, -4002.20678413, -3952.83282458,\n",
              "         -4053.55438918, -4056.15402125, -4038.96897604, -4006.13295409,\n",
              "         -4015.51528391, -4022.38277395, -4036.39040243, -4027.3216822 ,\n",
              "         -4005.0646257 , -4074.76635651, -4050.2074533 , -4032.22941622]),\n",
              "  'split3_test_score': array([-4679.37067639, -4634.05062057, -4677.40925884, -4636.46620228,\n",
              "         -4615.61350872, -4674.07205263, -4650.53292616, -4688.99743167,\n",
              "         -4700.13705897, -4692.26804591, -4735.78905336, -4709.10788398,\n",
              "         -4650.63518436, -4689.30893977, -4751.59809658, -4653.33247988]),\n",
              "  'split4_test_score': array([-4841.55836931, -4887.8648611 , -4800.32359086, -4771.52027254,\n",
              "         -4971.96961983, -4904.37457578, -4793.51840037, -4796.58232583,\n",
              "         -4934.67128364, -4886.52259272, -4843.73389038, -4815.44782148,\n",
              "         -4884.00299988, -4824.70898145, -4895.5060027 , -4855.51749659]),\n",
              "  'std_fit_time': array([4.26112843, 1.1460084 , 1.89582519, 1.41537065, 0.9511013 ,\n",
              "         1.7027063 , 1.74167712, 0.97583686, 1.45910819, 3.74261999,\n",
              "         5.56356851, 0.78815953, 1.11971909, 2.23292359, 3.69696857,\n",
              "         8.17745292]),\n",
              "  'std_score_time': array([0.19352485, 0.06358848, 0.05789742, 0.05613795, 0.08062789,\n",
              "         0.0614061 , 0.05375811, 0.08775363, 0.03288744, 0.0331098 ,\n",
              "         0.05417612, 0.03851305, 0.06736925, 0.05522355, 0.02881156,\n",
              "         0.17266709]),\n",
              "  'std_test_score': array([291.77636667, 305.98735134, 313.19339156, 301.35836843,\n",
              "         330.79940823, 316.7053837 , 287.97011252, 297.89002365,\n",
              "         333.73868154, 328.1442434 , 326.45081248, 308.05877409,\n",
              "         304.35102028, 284.39853567, 330.54198354, 297.94791767])},\n",
              " {'gamma': 0.0},\n",
              " -4383.175341070379)"
            ]
          },
          "metadata": {
            "tags": []
          },
          "execution_count": 32
        }
      ]
    },
    {
      "cell_type": "code",
      "metadata": {
        "colab": {
          "base_uri": "https://localhost:8080/"
        },
        "id": "HXlwO2CQ9F6a",
        "outputId": "32689ceb-0cac-46a4-f1e6-1eacabde93d1"
      },
      "source": [
        "gsearch4.cv_results_, gsearch4.best_params_, gsearch4.best_score_"
      ],
      "execution_count": null,
      "outputs": [
        {
          "output_type": "execute_result",
          "data": {
            "text/plain": [
              "({'mean_fit_time': array([386.53951235, 363.042735  , 338.37822924, 313.3070035 ,\n",
              "         433.91691971, 417.32392507, 392.03924212, 362.10139155,\n",
              "         495.66273103, 469.06437483, 432.19817591, 396.51340113,\n",
              "         539.60126262, 514.24307046, 475.9884151 , 431.9227118 ]),\n",
              "  'mean_score_time': array([0.51508894, 0.49074626, 0.55725942, 0.50304551, 0.50650969,\n",
              "         0.54222612, 0.51850076, 0.53687315, 0.53671861, 0.55969405,\n",
              "         0.5549365 , 0.55097036, 0.54518681, 0.52166924, 0.61391954,\n",
              "         0.33001447]),\n",
              "  'mean_test_score': array([-4445.90781459, -4460.59786581, -4397.04382855, -4387.32062126,\n",
              "         -4448.06398177, -4450.15904614, -4415.20845629, -4416.59335342,\n",
              "         -4450.08908655, -4443.18480748, -4436.98396207, -4427.88942775,\n",
              "         -4459.39004002, -4447.95111081, -4447.4044389 , -4436.5845876 ]),\n",
              "  'param_colsample_bytree': masked_array(data=[0.6, 0.6, 0.6, 0.6, 0.7, 0.7, 0.7, 0.7, 0.8, 0.8, 0.8,\n",
              "                     0.8, 0.9, 0.9, 0.9, 0.9],\n",
              "               mask=[False, False, False, False, False, False, False, False,\n",
              "                     False, False, False, False, False, False, False, False],\n",
              "         fill_value='?',\n",
              "              dtype=object),\n",
              "  'param_subsample': masked_array(data=[0.6, 0.7, 0.8, 0.9, 0.6, 0.7, 0.8, 0.9, 0.6, 0.7, 0.8,\n",
              "                     0.9, 0.6, 0.7, 0.8, 0.9],\n",
              "               mask=[False, False, False, False, False, False, False, False,\n",
              "                     False, False, False, False, False, False, False, False],\n",
              "         fill_value='?',\n",
              "              dtype=object),\n",
              "  'params': [{'colsample_bytree': 0.6, 'subsample': 0.6},\n",
              "   {'colsample_bytree': 0.6, 'subsample': 0.7},\n",
              "   {'colsample_bytree': 0.6, 'subsample': 0.8},\n",
              "   {'colsample_bytree': 0.6, 'subsample': 0.9},\n",
              "   {'colsample_bytree': 0.7, 'subsample': 0.6},\n",
              "   {'colsample_bytree': 0.7, 'subsample': 0.7},\n",
              "   {'colsample_bytree': 0.7, 'subsample': 0.8},\n",
              "   {'colsample_bytree': 0.7, 'subsample': 0.9},\n",
              "   {'colsample_bytree': 0.8, 'subsample': 0.6},\n",
              "   {'colsample_bytree': 0.8, 'subsample': 0.7},\n",
              "   {'colsample_bytree': 0.8, 'subsample': 0.8},\n",
              "   {'colsample_bytree': 0.8, 'subsample': 0.9},\n",
              "   {'colsample_bytree': 0.9, 'subsample': 0.6},\n",
              "   {'colsample_bytree': 0.9, 'subsample': 0.7},\n",
              "   {'colsample_bytree': 0.9, 'subsample': 0.8},\n",
              "   {'colsample_bytree': 0.9, 'subsample': 0.9}],\n",
              "  'rank_test_score': array([ 9, 16,  2,  1, 12, 14,  3,  4, 13,  8,  7,  5, 15, 11, 10,  6],\n",
              "        dtype=int32),\n",
              "  'split0_test_score': array([-4470.43892238, -4559.42030852, -4413.27878538, -4421.77553431,\n",
              "         -4449.36623639, -4465.35452248, -4448.83233534, -4412.57420956,\n",
              "         -4413.40185318, -4488.81343075, -4473.10961059, -4449.97887701,\n",
              "         -4494.42278786, -4457.67886028, -4396.63938473, -4445.66450596]),\n",
              "  'split1_test_score': array([-4133.14994189, -4133.77058782, -4092.00072352, -4154.00827259,\n",
              "         -4149.81615473, -4150.84005856, -4144.18964356, -4178.67984597,\n",
              "         -4186.71995305, -4125.93719407, -4095.89685358, -4137.59087409,\n",
              "         -4262.8246023 , -4193.29241604, -4143.0712572 , -4196.17903936]),\n",
              "  'split2_test_score': array([-4105.02116298, -4087.88295106, -4002.20678413, -3952.83282458,\n",
              "         -4053.55438918, -4056.15402125, -4038.96897604, -4006.13295409,\n",
              "         -4015.51528391, -4022.38277395, -4036.39040243, -4027.3216822 ,\n",
              "         -4005.0646257 , -4074.76635651, -4050.2074533 , -4032.22941622]),\n",
              "  'split3_test_score': array([-4679.37067639, -4634.05062057, -4677.40925884, -4636.46620228,\n",
              "         -4615.61350872, -4674.07205263, -4650.53292616, -4688.99743167,\n",
              "         -4700.13705897, -4692.26804591, -4735.78905336, -4709.10788398,\n",
              "         -4650.63518436, -4689.30893977, -4751.59809658, -4653.33247988]),\n",
              "  'split4_test_score': array([-4841.55836931, -4887.8648611 , -4800.32359086, -4771.52027254,\n",
              "         -4971.96961983, -4904.37457578, -4793.51840037, -4796.58232583,\n",
              "         -4934.67128364, -4886.52259272, -4843.73389038, -4815.44782148,\n",
              "         -4884.00299988, -4824.70898145, -4895.5060027 , -4855.51749659]),\n",
              "  'std_fit_time': array([4.26112843, 1.1460084 , 1.89582519, 1.41537065, 0.9511013 ,\n",
              "         1.7027063 , 1.74167712, 0.97583686, 1.45910819, 3.74261999,\n",
              "         5.56356851, 0.78815953, 1.11971909, 2.23292359, 3.69696857,\n",
              "         8.17745292]),\n",
              "  'std_score_time': array([0.19352485, 0.06358848, 0.05789742, 0.05613795, 0.08062789,\n",
              "         0.0614061 , 0.05375811, 0.08775363, 0.03288744, 0.0331098 ,\n",
              "         0.05417612, 0.03851305, 0.06736925, 0.05522355, 0.02881156,\n",
              "         0.17266709]),\n",
              "  'std_test_score': array([291.77636667, 305.98735134, 313.19339156, 301.35836843,\n",
              "         330.79940823, 316.7053837 , 287.97011252, 297.89002365,\n",
              "         333.73868154, 328.1442434 , 326.45081248, 308.05877409,\n",
              "         304.35102028, 284.39853567, 330.54198354, 297.94791767])},\n",
              " {'colsample_bytree': 0.6, 'subsample': 0.9},\n",
              " -4387.320621260127)"
            ]
          },
          "metadata": {
            "tags": []
          },
          "execution_count": 33
        }
      ]
    },
    {
      "cell_type": "code",
      "metadata": {
        "id": "AA60Wuk7bDxQ"
      },
      "source": [
        ""
      ],
      "execution_count": null,
      "outputs": []
    }
  ]
}